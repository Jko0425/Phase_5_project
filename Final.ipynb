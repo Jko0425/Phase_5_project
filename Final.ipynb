{
 "cells": [
  {
   "cell_type": "code",
   "execution_count": 1,
   "id": "b81d2595",
   "metadata": {},
   "outputs": [],
   "source": [
    "import pandas as pd\n",
    "import matplotlib.pyplot as plt\n",
    "%matplotlib inline\n",
    "import seaborn as sns\n",
    "import numpy as np\n",
    "import glob\n",
    "import os"
   ]
  },
  {
   "cell_type": "code",
   "execution_count": 2,
   "id": "9a06f1c0",
   "metadata": {},
   "outputs": [],
   "source": [
    "def read_csv(directory):\n",
    "    path = directory\n",
    "    all_files = glob.glob(os.path.join(path, '*.csv'))\n",
    "\n",
    "    l = []\n",
    "\n",
    "    for filename in all_files:\n",
    "        df = pd.read_csv(filename, index_col=None, header=0)\n",
    "        l.append(df)\n",
    "\n",
    "    df = pd.concat(l, axis=0, ignore_index=True)\n",
    "    \n",
    "    return df"
   ]
  },
  {
   "cell_type": "code",
   "execution_count": 3,
   "id": "4340844b",
   "metadata": {},
   "outputs": [],
   "source": [
    "climate_df = read_csv('Climate_data')\n",
    "carbon_df = read_csv('CO2_data')"
   ]
  },
  {
   "cell_type": "code",
   "execution_count": 4,
   "id": "dfa6aab5",
   "metadata": {},
   "outputs": [],
   "source": [
    "climate_df['DATE'] = pd.to_datetime(climate_df['DATE'])"
   ]
  },
  {
   "cell_type": "code",
   "execution_count": 5,
   "id": "8e5626fe",
   "metadata": {},
   "outputs": [],
   "source": [
    "columns = {'DATE':'Date',\n",
    "           'ADPT':'Average Dew Point Temperature', \n",
    "           'AWND':'Average Wind Speed',\n",
    "           'PRCP':'Total Monthly Precipitation',\n",
    "           'PSUN':'Monthly Average of the daily percents of possible sunshine',\n",
    "           'TAVG':'Average Monthly Temperature',\n",
    "           'TMAX':'Monthly Maximum Temperature',\n",
    "           'TMIN':'Monthly Minimum Temperature',\n",
    "           'RHAV':'Relative Humidity'}\n",
    "\n",
    "climate_df = climate_df.rename(columns=columns)"
   ]
  },
  {
   "cell_type": "code",
   "execution_count": null,
   "id": "8b12113a",
   "metadata": {},
   "outputs": [],
   "source": []
  }
 ],
 "metadata": {
  "kernelspec": {
   "display_name": "Python 3 (ipykernel)",
   "language": "python",
   "name": "python3"
  },
  "language_info": {
   "codemirror_mode": {
    "name": "ipython",
    "version": 3
   },
   "file_extension": ".py",
   "mimetype": "text/x-python",
   "name": "python",
   "nbconvert_exporter": "python",
   "pygments_lexer": "ipython3",
   "version": "3.9.13"
  }
 },
 "nbformat": 4,
 "nbformat_minor": 5
}
